{
 "cells": [
  {
   "cell_type": "markdown",
   "metadata": {},
   "source": [
    "# Lab 5 - Data Visualization"
   ]
  },
  {
   "cell_type": "code",
   "execution_count": 21,
   "metadata": {},
   "outputs": [],
   "source": [
    "import pandas as pd\n",
    "import matplotlib.pyplot as plt\n"
   ]
  },
  {
   "cell_type": "code",
   "execution_count": 22,
   "metadata": {},
   "outputs": [],
   "source": [
    "week3 = pd.read_csv(\"nfloffenseweek3.csv\")\n",
    "week4 = pd.read_csv(\"nfloffenseweek4.csv\")\n",
    "week5 = pd.read_csv(\"nfloffenseweek5.csv\")\n",
    "teams = pd.read_csv(\"nfl_teams.csv\")\n",
    "\n",
    "# pd.set_option('display.max_columns', None)\n",
    "# pd.set_option('display.max_rows', None)\n",
    "\n",
    "teams['Name'] = teams['Name'].replace(['NY Giants'], 'New York Giants')\n",
    "teams['Name'] = teams['Name'].replace(['NY Jets'], 'New York Jets')\n",
    "teams['Name'] = teams['Name'].replace(['Washington Football Team'], 'Washington Commanders')"
   ]
  },
  {
   "cell_type": "code",
   "execution_count": 23,
   "metadata": {},
   "outputs": [
    {
     "data": {
      "text/plain": [
       "\"\\nmergin on different named columns:\\n\\npd.merge(df1, df2, left_on='left_column_name', right_on='right_column_name')\\n\\n\""
      ]
     },
     "execution_count": 23,
     "metadata": {},
     "output_type": "execute_result"
    }
   ],
   "source": [
    "teams.columns = ['ID','team','Abbreviation','Conference','Division']\n",
    "\n",
    "\"\"\"\n",
    "mergin on different named columns:\n",
    "\n",
    "pd.merge(df1, df2, left_on='left_column_name', right_on='right_column_name')\n",
    "\n",
    "\"\"\""
   ]
  },
  {
   "cell_type": "markdown",
   "metadata": {},
   "source": [
    "## NFL Offense Data"
   ]
  },
  {
   "cell_type": "markdown",
   "metadata": {},
   "source": [
    "1. Import the NFL week 3, 4, and 5 data and add a week column to dataset and set the value to 3, 4, or 5 for all rows from that week. Combine the weekly dataframes by adding the dataframes together row-wise. Also merge the nfl_teams.csv data to this dataframe so that the division and conference info is included."
   ]
  },
  {
   "cell_type": "code",
   "execution_count": 24,
   "metadata": {},
   "outputs": [
    {
     "data": {
      "text/plain": [
       "Index(['ID', 'team', 'Abbreviation', 'Conference', 'Division', 'rank', 'Week',\n",
       "       'games', 'points_scored', 'total_yards', 'offensive_plays',\n",
       "       'yards_per_play', 'turnovers_lost', 'fumbles_lost', 'first_downs',\n",
       "       'passes_completed', 'passes_attempted', 'passing_yards',\n",
       "       'passing_touchdowns', 'passing_interceptions',\n",
       "       'net_yards_per_pass_attempt', 'passing_first_downs', 'rushing_attempts',\n",
       "       'rushing_yards', 'rushing_touchdowns', 'rushing_yards_per_attempt',\n",
       "       'rushing_first_downs', 'penalties', 'penalty_yards',\n",
       "       'first_down_penalties', 'percentage_scoring_drives',\n",
       "       'percentage_turnover_drives', 'expected_points'],\n",
       "      dtype='object')"
      ]
     },
     "execution_count": 24,
     "metadata": {},
     "output_type": "execute_result"
    }
   ],
   "source": [
    "from functools import reduce\n",
    "\n",
    "week3.insert(2, \"Week\", 3)\n",
    "week4.insert(2,\"Week\",4)\n",
    "week5.insert(2,\"Week\",5)\n",
    "\n",
    "#following code used from https://www.statology.org/pandas-merge-multiple-dataframes/\n",
    "someDf = pd.concat([week3,week4,week5])\n",
    "\n",
    "df = teams.merge(someDf, on=\"team\")\n",
    "df\n",
    "\n",
    "df.columns = ['ID',\"team\",'Abbreviation','Conference','Division',\"rank\",\"Week\",\"games\",\"points_scored\",\"total_yards\",\"offensive_plays\",\"yards_per_play\",\"turnovers_lost\",\"fumbles_lost\",\"first_downs\",\"passes_completed\",\"passes_attempted\",\"passing_yards\",\"passing_touchdowns\",\"passing_interceptions\",\"net_yards_per_pass_attempt\",\"passing_first_downs\",\"rushing_attempts\",\"rushing_yards\",\"rushing_touchdowns\",\"rushing_yards_per_attempt\",\"rushing_first_downs\",\"penalties\",\"penalty_yards\",\"first_down_penalties\",\"percentage_scoring_drives\",\"percentage_turnover_drives\",\"expected_points\"]\n",
    "#df = df.drop([df.index[32],df.index[33],df.index[34]])\n",
    "\n",
    "\n",
    "df.columns"
   ]
  },
  {
   "cell_type": "markdown",
   "metadata": {},
   "source": [
    "2. Plot the average number of points scored each week for each team on a horizontal bar chart (with teams on the vertical axis and points on the horizontal axis). Add the points scored for each bar. (Hint: check out `plt.bar_label()`)"
   ]
  },
  {
   "cell_type": "code",
   "execution_count": 38,
   "metadata": {},
   "outputs": [
    {
     "ename": "ImportError",
     "evalue": "cannot import name 'label' from 'matplotlib' (c:\\Users\\Samf3\\anaconda3\\lib\\site-packages\\matplotlib\\__init__.py)",
     "output_type": "error",
     "traceback": [
      "\u001b[1;31m---------------------------------------------------------------------------\u001b[0m",
      "\u001b[1;31mImportError\u001b[0m                               Traceback (most recent call last)",
      "\u001b[1;32m<ipython-input-38-04f38e174e32>\u001b[0m in \u001b[0;36m<module>\u001b[1;34m\u001b[0m\n\u001b[1;32m----> 1\u001b[1;33m \u001b[1;32mfrom\u001b[0m \u001b[0mmatplotlib\u001b[0m \u001b[1;32mimport\u001b[0m \u001b[0mlabel\u001b[0m\u001b[1;33m\u001b[0m\u001b[1;33m\u001b[0m\u001b[0m\n\u001b[0m\u001b[0;32m      2\u001b[0m \u001b[1;33m\u001b[0m\u001b[0m\n\u001b[0;32m      3\u001b[0m \u001b[1;33m\u001b[0m\u001b[0m\n\u001b[0;32m      4\u001b[0m \u001b[0mplt\u001b[0m\u001b[1;33m.\u001b[0m\u001b[0mfigure\u001b[0m\u001b[1;33m(\u001b[0m\u001b[0mfigsize\u001b[0m\u001b[1;33m=\u001b[0m\u001b[1;33m(\u001b[0m\u001b[1;36m12\u001b[0m\u001b[1;33m,\u001b[0m \u001b[1;36m12\u001b[0m\u001b[1;33m)\u001b[0m\u001b[1;33m)\u001b[0m\u001b[1;33m\u001b[0m\u001b[1;33m\u001b[0m\u001b[0m\n\u001b[0;32m      5\u001b[0m \u001b[1;33m\u001b[0m\u001b[0m\n",
      "\u001b[1;31mImportError\u001b[0m: cannot import name 'label' from 'matplotlib' (c:\\Users\\Samf3\\anaconda3\\lib\\site-packages\\matplotlib\\__init__.py)"
     ]
    }
   ],
   "source": [
    "from matplotlib import label\n",
    "\n",
    "\n",
    "plt.figure(figsize=(12, 12))\n",
    "\n",
    "#fig, ax = plt.subplots()\n",
    "barhplot = plt.barh(df.team, df.points_scored)\n",
    "\n",
    "\n",
    "\n",
    "#I think the code below is correct, however, my version claims that there is no attribute by that name\n",
    "#barhplot.bar_label(df.containers[0])\n",
    "\n",
    "barhplot"
   ]
  },
  {
   "cell_type": "markdown",
   "metadata": {},
   "source": [
    "3. Plot the average passing yards and average rushing yards for each team as a stacked bar chart."
   ]
  },
  {
   "cell_type": "code",
   "execution_count": null,
   "metadata": {},
   "outputs": [
    {
     "data": {
      "image/png": "[encoded data removed]",
      "text/plain": [
       "<Figure size 1800x576 with 1 Axes>"
      ]
     },
     "metadata": {
      "needs_background": "light"
     },
     "output_type": "display_data"
    }
   ],
   "source": [
    "plt.figure(figsize=(25, 8))\n",
    "\n",
    "\n",
    "avgPass = df.groupby(['team']).passing_yards.mean()\n",
    "avgRush = df.groupby(['team']).rushing_yards.mean()\n",
    "\n",
    "\n",
    "plt.bar(avgPass, avgRush, color = 'b');\n",
    "plt.bar(avgPass, avgRush, bottom = avgRush, color = 'r');\n",
    "\n"
   ]
  },
  {
   "cell_type": "markdown",
   "metadata": {},
   "source": [
    "4. Plot the average total yards vs average first downs for each team on a scatter plot (with first downs on the x axis and total yards on the y axis)."
   ]
  },
  {
   "cell_type": "code",
   "execution_count": null,
   "metadata": {},
   "outputs": [
    {
     "data": {
      "image/png": "[encoded data removed]",
      "text/plain": [
       "<Figure size 432x288 with 1 Axes>"
      ]
     },
     "metadata": {
      "needs_background": "light"
     },
     "output_type": "display_data"
    }
   ],
   "source": [
    "avgYards = df.groupby('team').total_yards.mean()\n",
    "avgFstDowns = df.groupby('team').first_downs.mean()\n",
    "\n",
    "plt.title('Week 3 - 5 Data')\n",
    "plt.xlabel('Average First Downs')\n",
    "plt.ylabel('Total Yards Gained')\n",
    "\n",
    "plt.scatter(avgFstDowns,avgYards);"
   ]
  },
  {
   "cell_type": "markdown",
   "metadata": {},
   "source": [
    "5. Plot the penalty yards for the Balitmore Ravens and the LA Rams for each week as a line chart (with week on the x-axis and penalty yards on the y-axis)."
   ]
  },
  {
   "cell_type": "code",
   "execution_count": 31,
   "metadata": {},
   "outputs": [
    {
     "data": {
      "text/plain": [
       "team   penalty_yards\n",
       "False  100              2\n",
       "       156              2\n",
       "       159              2\n",
       "       161              2\n",
       "       165              2\n",
       "                       ..\n",
       "       376              1\n",
       "       391              1\n",
       "True   44               1\n",
       "       114              1\n",
       "       162              1\n",
       "Name: penalty_yards, Length: 84, dtype: int64"
      ]
     },
     "execution_count": 31,
     "metadata": {},
     "output_type": "execute_result"
    }
   ],
   "source": [
    "ravenWeeks = df.groupby((df['team']) == 'Baltimore Ravens').penalty_yards\n"
   ]
  },
  {
   "cell_type": "code",
   "execution_count": null,
   "metadata": {},
   "outputs": [
    {
     "data": {
      "text/plain": [
       "Index(['ID', 'team', 'Abbreviation', 'Conference', 'Division', 'rank', 'Week',\n",
       "       'games', 'points_scored', 'total_yards', 'offensive_plays',\n",
       "       'yards_per_play', 'turnovers_lost', 'fumbles_lost', 'first_downs',\n",
       "       'passes_completed', 'passes_attempted', 'passing_yards',\n",
       "       'passing_touchdowns', 'passing_interceptions',\n",
       "       'net_yards_per_pass_attempt', 'passing_first_downs', 'rushing_attempts',\n",
       "       'rushing_yards', 'rushing_touchdowns', 'rushing_yards_per_attempt',\n",
       "       'rushing_first_downs', 'penalties', 'penalty_yards',\n",
       "       'first_down_penalties', 'percentage_scoring_drives',\n",
       "       'percentage_turnover_drives', 'expected_points'],\n",
       "      dtype='object')"
      ]
     },
     "execution_count": 73,
     "metadata": {},
     "output_type": "execute_result"
    }
   ],
   "source": [
    "df.columns"
   ]
  },
  {
   "cell_type": "markdown",
   "metadata": {},
   "source": [
    "6. Plot the average total points vs average yards per play for each team as a scatter chart (with total points on the y-axis and yards per play on the x-axis)."
   ]
  },
  {
   "cell_type": "code",
   "execution_count": null,
   "metadata": {},
   "outputs": [
    {
     "data": {
      "image/png": "[encoded data removed]",
      "text/plain": [
       "<Figure size 432x288 with 1 Axes>"
      ]
     },
     "metadata": {
      "needs_background": "light"
     },
     "output_type": "display_data"
    }
   ],
   "source": [
    "avgPoints = df.groupby('team').points_scored.mean()\n",
    "avgYPP = df.groupby('team').yards_per_play.mean()\n",
    "\n",
    "plt.title('Week 3 - 5 Data')\n",
    "plt.xlabel('Average Yards Per Play')\n",
    "plt.ylabel('Total Points')\n",
    "\n",
    "plt.scatter(avgYPP, avgPoints);"
   ]
  },
  {
   "cell_type": "markdown",
   "metadata": {},
   "source": [
    "7. Plot the number of penalty yards for each team in the NFC West for each week on bar chart."
   ]
  },
  {
   "cell_type": "code",
   "execution_count": 107,
   "metadata": {},
   "outputs": [
    {
     "data": {
      "text/plain": [
       "<BarContainer object of 12 artists>"
      ]
     },
     "execution_count": 107,
     "metadata": {},
     "output_type": "execute_result"
    },
    {
     "data": {
      "image/png": "[encoded data removed]",
      "text/plain": [
       "<Figure size 1080x576 with 1 Axes>"
      ]
     },
     "metadata": {
      "needs_background": "light"
     },
     "output_type": "display_data"
    }
   ],
   "source": [
    "plt.figure(figsize=(15, 8))\n",
    "\n",
    "\n",
    "NFCWest = df[ (df.Division == 'West') & (df.Conference == 'NFC')]\n",
    "NFCWestTeams = NFCWest['team']\n",
    "\n",
    "\n",
    "\n",
    "penYards = NFCWest.penalty_yards\n",
    "\n",
    "\n",
    "plt.bar(NFCWestTeams,penYards)\n"
   ]
  },
  {
   "cell_type": "code",
   "execution_count": 52,
   "metadata": {},
   "outputs": [
    {
     "data": {
      "text/plain": [
       "Index(['ID', 'team', 'Abbreviation', 'Conference', 'Division', 'rank', 'Week',\n",
       "       'games', 'points_scored', 'total_yards', 'offensive_plays',\n",
       "       'yards_per_play', 'turnovers_lost', 'fumbles_lost', 'first_downs',\n",
       "       'passes_completed', 'passes_attempted', 'passing_yards',\n",
       "       'passing_touchdowns', 'passing_interceptions',\n",
       "       'net_yards_per_pass_attempt', 'passing_first_downs', 'rushing_attempts',\n",
       "       'rushing_yards', 'rushing_touchdowns', 'rushing_yards_per_attempt',\n",
       "       'rushing_first_downs', 'penalties', 'penalty_yards',\n",
       "       'first_down_penalties', 'percentage_scoring_drives',\n",
       "       'percentage_turnover_drives', 'expected_points'],\n",
       "      dtype='object')"
      ]
     },
     "execution_count": 52,
     "metadata": {},
     "output_type": "execute_result"
    }
   ],
   "source": [
    "df.columns"
   ]
  },
  {
   "cell_type": "markdown",
   "metadata": {},
   "source": [
    "8. Plot the average number of weekly points per (conference and division) on a horizontal bar chart. (There will be 8 bars.)"
   ]
  },
  {
   "cell_type": "code",
   "execution_count": null,
   "metadata": {},
   "outputs": [],
   "source": []
  }
 ],
 "metadata": {
  "kernelspec": {
   "display_name": "Python 3.8.5 ('base')",
   "language": "python",
   "name": "python3"
  },
  "language_info": {
   "codemirror_mode": {
    "name": "ipython",
    "version": 3
   },
   "file_extension": ".py",
   "mimetype": "text/x-python",
   "name": "python",
   "nbconvert_exporter": "python",
   "pygments_lexer": "ipython3",
   "version": "3.8.5"
  },
  "orig_nbformat": 4,
  "vscode": {
   "interpreter": {
    "hash": "c471063a423a12bc31c75690bebc4e46aa16be278dfa940fb5a0a9b8b4b1bcfc"
   }
  }
 },
 "nbformat": 4,
 "nbformat_minor": 2
}
